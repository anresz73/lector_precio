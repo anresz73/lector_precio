{
 "cells": [
  {
   "cell_type": "code",
   "execution_count": 1,
   "id": "0cb7a16f-353c-4a60-8d26-a736a061d7e5",
   "metadata": {},
   "outputs": [],
   "source": [
    "import pandas as pd, numpy as np\n",
    "import requests, re, locale\n",
    "from datetime import datetime\n",
    "from bs4 import BeautifulSoup"
   ]
  },
  {
   "cell_type": "code",
   "execution_count": 2,
   "id": "fa4a988e-0497-4733-8985-cefd2bb46788",
   "metadata": {},
   "outputs": [
    {
     "data": {
      "text/plain": [
       "'es_ES.UTF-8'"
      ]
     },
     "execution_count": 2,
     "metadata": {},
     "output_type": "execute_result"
    }
   ],
   "source": [
    "locale.setlocale(locale.LC_TIME, 'es_ES.UTF-8')"
   ]
  },
  {
   "cell_type": "code",
   "execution_count": 77,
   "id": "8b986f2a-c076-45b1-a32a-b78363add8bd",
   "metadata": {},
   "outputs": [],
   "source": [
    "#Definición de Función Scrappeadora\n",
    "def scrap(url,\n",
    "          cols = ['titulo', 'fecha', 'precio']\n",
    "         ):\n",
    "    \"\"\"\n",
    "    Devuelve un df con datos de una web - customizada para datos del rosgan\n",
    "    url: str - dirección web\n",
    "    cols = list - nombrs de columnas\n",
    "    \"\"\"\n",
    "    r = requests.get(url = url)\n",
    "    soup = BeautifulSoup(r.text, 'lxml')\n",
    "    data = soup.find_all('dl', class_ = 'remate')\n",
    "    data = pd.DataFrame([(e.dt.text, e.dd.div.span.text) for e in data])\n",
    "    data[cols[:2]] = data[0].str.split('-', expand = True)\n",
    "    data[cols[2]] = data[1].str.extract(pat = r'(\\d{1,4}.\\d{1,2})').astype(float)\n",
    "    data[cols[0]] = data[cols[0]].str.strip()\n",
    "    data[cols[1]] = pd.to_datetime(\n",
    "        data[cols[1]].str.extract(r'(([0-9]|[1-3][0-9]) de ([a-z]{4,10}) de (19|20)\\d{2})')[0], \n",
    "        format = r'%d de %B de %Y'\n",
    "    )\n",
    "    return data[cols]#.set_index('fecha').sort_index()"
   ]
  },
  {
   "cell_type": "code",
   "execution_count": 78,
   "id": "de174479-ebd5-48d5-8c04-e4ab16ba6104",
   "metadata": {},
   "outputs": [
    {
     "data": {
      "text/html": [
       "<div>\n",
       "<style scoped>\n",
       "    .dataframe tbody tr th:only-of-type {\n",
       "        vertical-align: middle;\n",
       "    }\n",
       "\n",
       "    .dataframe tbody tr th {\n",
       "        vertical-align: top;\n",
       "    }\n",
       "\n",
       "    .dataframe thead th {\n",
       "        text-align: right;\n",
       "    }\n",
       "</style>\n",
       "<table border=\"1\" class=\"dataframe\">\n",
       "  <thead>\n",
       "    <tr style=\"text-align: right;\">\n",
       "      <th></th>\n",
       "      <th>titulo</th>\n",
       "      <th>fecha</th>\n",
       "      <th>precio</th>\n",
       "    </tr>\n",
       "  </thead>\n",
       "  <tbody>\n",
       "    <tr>\n",
       "      <th>0</th>\n",
       "      <td>Especial Expoagro</td>\n",
       "      <td>2022-03-09</td>\n",
       "      <td>341.95</td>\n",
       "    </tr>\n",
       "    <tr>\n",
       "      <th>1</th>\n",
       "      <td>Rosgan Nro.154</td>\n",
       "      <td>2022-02-10</td>\n",
       "      <td>283.38</td>\n",
       "    </tr>\n",
       "    <tr>\n",
       "      <th>2</th>\n",
       "      <td>Rosgan Nro.153</td>\n",
       "      <td>2022-01-19</td>\n",
       "      <td>272.04</td>\n",
       "    </tr>\n",
       "    <tr>\n",
       "      <th>3</th>\n",
       "      <td>Rosgan Nro.152</td>\n",
       "      <td>2021-12-16</td>\n",
       "      <td>289.82</td>\n",
       "    </tr>\n",
       "    <tr>\n",
       "      <th>4</th>\n",
       "      <td>Rosgan Nro.151</td>\n",
       "      <td>2021-11-10</td>\n",
       "      <td>262.67</td>\n",
       "    </tr>\n",
       "  </tbody>\n",
       "</table>\n",
       "</div>"
      ],
      "text/plain": [
       "              titulo      fecha  precio\n",
       "0  Especial Expoagro 2022-03-09  341.95\n",
       "1     Rosgan Nro.154 2022-02-10  283.38\n",
       "2     Rosgan Nro.153 2022-01-19  272.04\n",
       "3     Rosgan Nro.152 2021-12-16  289.82\n",
       "4     Rosgan Nro.151 2021-11-10  262.67"
      ]
     },
     "execution_count": 78,
     "metadata": {},
     "output_type": "execute_result"
    }
   ],
   "source": [
    "# Carga de datos precio rosgan y resampleo mensual OJO\n",
    "url_rosgan = r'https://www.rosgan.com.ar/precios-rosgan/'\n",
    "rosgan_precio = scrap(url = url_rosgan)\n",
    "rosgan_precio.head()"
   ]
  },
  {
   "cell_type": "code",
   "execution_count": 79,
   "id": "bb5a7e63-33c0-41f3-b9e5-7d0378e9d7ad",
   "metadata": {},
   "outputs": [
    {
     "data": {
      "text/plain": [
       "<AxesSubplot:xlabel='fecha'>"
      ]
     },
     "execution_count": 79,
     "metadata": {},
     "output_type": "execute_result"
    },
    {
     "data": {
      "image/png": "[encoded data removed]",
      "text/plain": [
       "<Figure size 1296x576 with 1 Axes>"
      ]
     },
     "metadata": {
      "needs_background": "light"
     },
     "output_type": "display_data"
    }
   ],
   "source": [
    "# Gráfico\n",
    "rosgan_precio.set_index('fecha').sort_index()['precio'].plot(logy = False, figsize = (18, 8), grid = True)"
   ]
  },
  {
   "cell_type": "code",
   "execution_count": null,
   "id": "67c27acd-8221-43e8-a4f5-62fa1e1e4daf",
   "metadata": {},
   "outputs": [],
   "source": []
  }
 ],
 "metadata": {
  "kernelspec": {
   "display_name": "Python 3 (ipykernel)",
   "language": "python",
   "name": "python3"
  },
  "language_info": {
   "codemirror_mode": {
    "name": "ipython",
    "version": 3
   },
   "file_extension": ".py",
   "mimetype": "text/x-python",
   "name": "python",
   "nbconvert_exporter": "python",
   "pygments_lexer": "ipython3",
   "version": "3.9.7"
  }
 },
 "nbformat": 4,
 "nbformat_minor": 5
}
