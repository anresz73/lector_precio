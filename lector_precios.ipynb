{
 "cells": [
  {
   "cell_type": "code",
   "execution_count": 25,
   "id": "0cb7a16f-353c-4a60-8d26-a736a061d7e5",
   "metadata": {},
   "outputs": [],
   "source": [
    "import pandas as pd, numpy as np\n",
    "import requests, re, locale\n",
    "from datetime import datetime\n",
    "from bs4 import BeautifulSoup"
   ]
  },
  {
   "cell_type": "code",
   "execution_count": 2,
   "id": "fa4a988e-0497-4733-8985-cefd2bb46788",
   "metadata": {},
   "outputs": [
    {
     "data": {
      "text/plain": [
       "'es_ES.UTF-8'"
      ]
     },
     "execution_count": 2,
     "metadata": {},
     "output_type": "execute_result"
    }
   ],
   "source": [
    "locale.setlocale(locale.LC_TIME, 'es_ES.UTF-8')"
   ]
  },
  {
   "cell_type": "code",
   "execution_count": 3,
   "id": "60d1586c-a865-4cec-aa9a-0b1c08bbe2b6",
   "metadata": {},
   "outputs": [],
   "source": [
    "def date_parser(date):\n",
    "    f = lambda x: re.search(r'(([0-9]|[1-3][0-9]) de [a-z]{4,10} de (19|20)\\d{2})', x)\n",
    "    try:\n",
    "        return datetime.strptime(date, r'%d de %B de %Y')\n",
    "    except ValueError:\n",
    "        return date_parser(f(date).group(0))\n",
    "    except:\n",
    "        print('Error.')"
   ]
  },
  {
   "cell_type": "code",
   "execution_count": 15,
   "id": "8b986f2a-c076-45b1-a32a-b78363add8bd",
   "metadata": {},
   "outputs": [],
   "source": [
    "def scrap(url, attrs = {'class': 'remate'}):\n",
    "    \"\"\"\n",
    "    Devuelve un df con datos de una web\n",
    "    url: str - dirección web\n",
    "    \n",
    "    \"\"\"\n",
    "    r = requests.get(url = url)\n",
    "    soup = BeautifulSoup(r.text, 'lxml')\n",
    "    data = soup.find_all('dl', class_ = 'remate')\n",
    "    data = pd.DataFrame([(e.dt.text, e.dd.div.span.text) for e in data])\n",
    "    #data[1].str.extract(pat = r'([0-9]{1,3}.[0-9])').astype(float)\n",
    "    #data[['nro', 'fecha']] = data[0].str.split('-', expand = True)\n",
    "    data = data.agg({1 : lambda x: x.str.extract(pat = r'([0-9]{1,4}.[0-9])').astype(float),\n",
    "                     0 : lambda x: x.str.split('-', expand = True)})\n",
    "    data.columns = ['precio', 'titulo', 'fecha']\n",
    "    #data['fecha'] = data.agg({'fecha' : date_parser})\n",
    "    return data#.set_index('fecha').sort_index()"
   ]
  },
  {
   "cell_type": "code",
   "execution_count": 16,
   "id": "de174479-ebd5-48d5-8c04-e4ab16ba6104",
   "metadata": {},
   "outputs": [
    {
     "data": {
      "text/html": [
       "<div>\n",
       "<style scoped>\n",
       "    .dataframe tbody tr th:only-of-type {\n",
       "        vertical-align: middle;\n",
       "    }\n",
       "\n",
       "    .dataframe tbody tr th {\n",
       "        vertical-align: top;\n",
       "    }\n",
       "\n",
       "    .dataframe thead th {\n",
       "        text-align: right;\n",
       "    }\n",
       "</style>\n",
       "<table border=\"1\" class=\"dataframe\">\n",
       "  <thead>\n",
       "    <tr style=\"text-align: right;\">\n",
       "      <th></th>\n",
       "      <th>precio</th>\n",
       "      <th>titulo</th>\n",
       "      <th>fecha</th>\n",
       "    </tr>\n",
       "  </thead>\n",
       "  <tbody>\n",
       "    <tr>\n",
       "      <th>0</th>\n",
       "      <td>341.9</td>\n",
       "      <td>Especial Expoagro</td>\n",
       "      <td>9 de marzo de 2022</td>\n",
       "    </tr>\n",
       "    <tr>\n",
       "      <th>1</th>\n",
       "      <td>283.3</td>\n",
       "      <td>Rosgan Nro.154</td>\n",
       "      <td>9 al 10 de febrero de 2022</td>\n",
       "    </tr>\n",
       "    <tr>\n",
       "      <th>2</th>\n",
       "      <td>272.0</td>\n",
       "      <td>Rosgan Nro.153</td>\n",
       "      <td>19 de enero de 2022</td>\n",
       "    </tr>\n",
       "    <tr>\n",
       "      <th>3</th>\n",
       "      <td>289.8</td>\n",
       "      <td>Rosgan Nro.152</td>\n",
       "      <td>15 al 16 de diciembre de 2021</td>\n",
       "    </tr>\n",
       "    <tr>\n",
       "      <th>4</th>\n",
       "      <td>262.6</td>\n",
       "      <td>Rosgan Nro.151</td>\n",
       "      <td>10 de noviembre de 2021</td>\n",
       "    </tr>\n",
       "    <tr>\n",
       "      <th>...</th>\n",
       "      <td>...</td>\n",
       "      <td>...</td>\n",
       "      <td>...</td>\n",
       "    </tr>\n",
       "    <tr>\n",
       "      <th>144</th>\n",
       "      <td>6.3</td>\n",
       "      <td>Remate Nro 15</td>\n",
       "      <td>11 al 13 de febrero de 2010</td>\n",
       "    </tr>\n",
       "    <tr>\n",
       "      <th>145</th>\n",
       "      <td>4.5</td>\n",
       "      <td>Remate Nro 14</td>\n",
       "      <td>17 al 18 de diciembre de 2009</td>\n",
       "    </tr>\n",
       "    <tr>\n",
       "      <th>146</th>\n",
       "      <td>3.8</td>\n",
       "      <td>Remate Nro 13</td>\n",
       "      <td>12 al 13 de noviembre de 2009</td>\n",
       "    </tr>\n",
       "    <tr>\n",
       "      <th>147</th>\n",
       "      <td>3.7</td>\n",
       "      <td>Remate Nro 12</td>\n",
       "      <td>14 al 16 de octubre de 2009</td>\n",
       "    </tr>\n",
       "    <tr>\n",
       "      <th>148</th>\n",
       "      <td>3.7</td>\n",
       "      <td>Remate Nro 11</td>\n",
       "      <td>10 al 11 de septiembre de 2009</td>\n",
       "    </tr>\n",
       "  </tbody>\n",
       "</table>\n",
       "<p>149 rows × 3 columns</p>\n",
       "</div>"
      ],
      "text/plain": [
       "     precio              titulo                            fecha\n",
       "0     341.9  Especial Expoagro                9 de marzo de 2022\n",
       "1     283.3     Rosgan Nro.154        9 al 10 de febrero de 2022\n",
       "2     272.0     Rosgan Nro.153               19 de enero de 2022\n",
       "3     289.8     Rosgan Nro.152     15 al 16 de diciembre de 2021\n",
       "4     262.6     Rosgan Nro.151           10 de noviembre de 2021\n",
       "..      ...                 ...                              ...\n",
       "144     6.3      Remate Nro 15       11 al 13 de febrero de 2010\n",
       "145     4.5      Remate Nro 14     17 al 18 de diciembre de 2009\n",
       "146     3.8      Remate Nro 13     12 al 13 de noviembre de 2009\n",
       "147     3.7      Remate Nro 12       14 al 16 de octubre de 2009\n",
       "148     3.7      Remate Nro 11    10 al 11 de septiembre de 2009\n",
       "\n",
       "[149 rows x 3 columns]"
      ]
     },
     "execution_count": 16,
     "metadata": {},
     "output_type": "execute_result"
    }
   ],
   "source": [
    "# Carga de datos precio rosgan y resampleo mensual OJO\n",
    "url_rosgan = r'https://www.rosgan.com.ar/precios-rosgan/'\n",
    "rosgan_precio = scrap(url = url_rosgan)\n",
    "#rosgan_precio = pd.read_csv('csv/rosgan.csv', parse_dates = [0], index_col = [0])\n",
    "#rosgan_precio = rosgan_precio.resample('1m').last().interpolate().to_period('1m')\n",
    "rosgan_precio"
   ]
  },
  {
   "cell_type": "code",
   "execution_count": 23,
   "id": "ea809b02-cc1a-45cb-b91c-cba449951386",
   "metadata": {},
   "outputs": [
    {
     "data": {
      "text/html": [
       "<div>\n",
       "<style scoped>\n",
       "    .dataframe tbody tr th:only-of-type {\n",
       "        vertical-align: middle;\n",
       "    }\n",
       "\n",
       "    .dataframe tbody tr th {\n",
       "        vertical-align: top;\n",
       "    }\n",
       "\n",
       "    .dataframe thead th {\n",
       "        text-align: right;\n",
       "    }\n",
       "</style>\n",
       "<table border=\"1\" class=\"dataframe\">\n",
       "  <thead>\n",
       "    <tr style=\"text-align: right;\">\n",
       "      <th></th>\n",
       "      <th>0</th>\n",
       "      <th>1</th>\n",
       "      <th>2</th>\n",
       "      <th>3</th>\n",
       "    </tr>\n",
       "  </thead>\n",
       "  <tbody>\n",
       "    <tr>\n",
       "      <th>0</th>\n",
       "      <td>9 de marzo de 2022</td>\n",
       "      <td>9</td>\n",
       "      <td>marzo</td>\n",
       "      <td>20</td>\n",
       "    </tr>\n",
       "    <tr>\n",
       "      <th>1</th>\n",
       "      <td>10 de febrero de 2022</td>\n",
       "      <td>10</td>\n",
       "      <td>febrero</td>\n",
       "      <td>20</td>\n",
       "    </tr>\n",
       "    <tr>\n",
       "      <th>2</th>\n",
       "      <td>19 de enero de 2022</td>\n",
       "      <td>19</td>\n",
       "      <td>enero</td>\n",
       "      <td>20</td>\n",
       "    </tr>\n",
       "    <tr>\n",
       "      <th>3</th>\n",
       "      <td>16 de diciembre de 2021</td>\n",
       "      <td>16</td>\n",
       "      <td>diciembre</td>\n",
       "      <td>20</td>\n",
       "    </tr>\n",
       "    <tr>\n",
       "      <th>4</th>\n",
       "      <td>10 de noviembre de 2021</td>\n",
       "      <td>10</td>\n",
       "      <td>noviembre</td>\n",
       "      <td>20</td>\n",
       "    </tr>\n",
       "    <tr>\n",
       "      <th>...</th>\n",
       "      <td>...</td>\n",
       "      <td>...</td>\n",
       "      <td>...</td>\n",
       "      <td>...</td>\n",
       "    </tr>\n",
       "    <tr>\n",
       "      <th>144</th>\n",
       "      <td>13 de febrero de 2010</td>\n",
       "      <td>13</td>\n",
       "      <td>febrero</td>\n",
       "      <td>20</td>\n",
       "    </tr>\n",
       "    <tr>\n",
       "      <th>145</th>\n",
       "      <td>18 de diciembre de 2009</td>\n",
       "      <td>18</td>\n",
       "      <td>diciembre</td>\n",
       "      <td>20</td>\n",
       "    </tr>\n",
       "    <tr>\n",
       "      <th>146</th>\n",
       "      <td>13 de noviembre de 2009</td>\n",
       "      <td>13</td>\n",
       "      <td>noviembre</td>\n",
       "      <td>20</td>\n",
       "    </tr>\n",
       "    <tr>\n",
       "      <th>147</th>\n",
       "      <td>16 de octubre de 2009</td>\n",
       "      <td>16</td>\n",
       "      <td>octubre</td>\n",
       "      <td>20</td>\n",
       "    </tr>\n",
       "    <tr>\n",
       "      <th>148</th>\n",
       "      <td>11 de septiembre de 2009</td>\n",
       "      <td>11</td>\n",
       "      <td>septiembre</td>\n",
       "      <td>20</td>\n",
       "    </tr>\n",
       "  </tbody>\n",
       "</table>\n",
       "<p>149 rows × 4 columns</p>\n",
       "</div>"
      ],
      "text/plain": [
       "                            0   1           2   3\n",
       "0          9 de marzo de 2022   9       marzo  20\n",
       "1       10 de febrero de 2022  10     febrero  20\n",
       "2         19 de enero de 2022  19       enero  20\n",
       "3     16 de diciembre de 2021  16   diciembre  20\n",
       "4     10 de noviembre de 2021  10   noviembre  20\n",
       "..                        ...  ..         ...  ..\n",
       "144     13 de febrero de 2010  13     febrero  20\n",
       "145   18 de diciembre de 2009  18   diciembre  20\n",
       "146   13 de noviembre de 2009  13   noviembre  20\n",
       "147     16 de octubre de 2009  16     octubre  20\n",
       "148  11 de septiembre de 2009  11  septiembre  20\n",
       "\n",
       "[149 rows x 4 columns]"
      ]
     },
     "execution_count": 23,
     "metadata": {},
     "output_type": "execute_result"
    }
   ],
   "source": [
    "rosgan_precio['fecha'].str.extract(r'(([0-9]|[1-3][0-9]) de ([a-z]{4,10}) de (19|20)\\d{2})')"
   ]
  },
  {
   "cell_type": "code",
   "execution_count": 32,
   "id": "f44c84d9-0042-4705-8b24-0618d695fdda",
   "metadata": {},
   "outputs": [
    {
     "ename": "ValueError",
     "evalue": "time data ' 9 al 10 de febrero de 2022' does not match format '%d de %B de %Y'",
     "output_type": "error",
     "traceback": [
      "\u001b[0;31m---------------------------------------------------------------------------\u001b[0m",
      "\u001b[0;31mValueError\u001b[0m                                Traceback (most recent call last)",
      "\u001b[0;32m<ipython-input-32-e92e9d8b5a41>\u001b[0m in \u001b[0;36m<module>\u001b[0;34m\u001b[0m\n\u001b[0;32m----> 1\u001b[0;31m \u001b[0mdatetime\u001b[0m\u001b[0;34m.\u001b[0m\u001b[0mstrptime\u001b[0m\u001b[0;34m(\u001b[0m\u001b[0mrosgan_precio\u001b[0m\u001b[0;34m[\u001b[0m\u001b[0;34m'fecha'\u001b[0m\u001b[0;34m]\u001b[0m\u001b[0;34m[\u001b[0m\u001b[0;36m1\u001b[0m\u001b[0;34m]\u001b[0m\u001b[0;34m,\u001b[0m \u001b[0;34mr'%d de %B de %Y'\u001b[0m\u001b[0;34m)\u001b[0m\u001b[0;34m\u001b[0m\u001b[0;34m\u001b[0m\u001b[0m\n\u001b[0m",
      "\u001b[0;32m~/miniconda3/envs/tester/lib/python3.9/_strptime.py\u001b[0m in \u001b[0;36m_strptime_datetime\u001b[0;34m(cls, data_string, format)\u001b[0m\n\u001b[1;32m    566\u001b[0m     \"\"\"Return a class cls instance based on the input string and the\n\u001b[1;32m    567\u001b[0m     format string.\"\"\"\n\u001b[0;32m--> 568\u001b[0;31m     \u001b[0mtt\u001b[0m\u001b[0;34m,\u001b[0m \u001b[0mfraction\u001b[0m\u001b[0;34m,\u001b[0m \u001b[0mgmtoff_fraction\u001b[0m \u001b[0;34m=\u001b[0m \u001b[0m_strptime\u001b[0m\u001b[0;34m(\u001b[0m\u001b[0mdata_string\u001b[0m\u001b[0;34m,\u001b[0m \u001b[0mformat\u001b[0m\u001b[0;34m)\u001b[0m\u001b[0;34m\u001b[0m\u001b[0;34m\u001b[0m\u001b[0m\n\u001b[0m\u001b[1;32m    569\u001b[0m     \u001b[0mtzname\u001b[0m\u001b[0;34m,\u001b[0m \u001b[0mgmtoff\u001b[0m \u001b[0;34m=\u001b[0m \u001b[0mtt\u001b[0m\u001b[0;34m[\u001b[0m\u001b[0;34m-\u001b[0m\u001b[0;36m2\u001b[0m\u001b[0;34m:\u001b[0m\u001b[0;34m]\u001b[0m\u001b[0;34m\u001b[0m\u001b[0;34m\u001b[0m\u001b[0m\n\u001b[1;32m    570\u001b[0m     \u001b[0margs\u001b[0m \u001b[0;34m=\u001b[0m \u001b[0mtt\u001b[0m\u001b[0;34m[\u001b[0m\u001b[0;34m:\u001b[0m\u001b[0;36m6\u001b[0m\u001b[0;34m]\u001b[0m \u001b[0;34m+\u001b[0m \u001b[0;34m(\u001b[0m\u001b[0mfraction\u001b[0m\u001b[0;34m,\u001b[0m\u001b[0;34m)\u001b[0m\u001b[0;34m\u001b[0m\u001b[0;34m\u001b[0m\u001b[0m\n",
      "\u001b[0;32m~/miniconda3/envs/tester/lib/python3.9/_strptime.py\u001b[0m in \u001b[0;36m_strptime\u001b[0;34m(data_string, format)\u001b[0m\n\u001b[1;32m    347\u001b[0m     \u001b[0mfound\u001b[0m \u001b[0;34m=\u001b[0m \u001b[0mformat_regex\u001b[0m\u001b[0;34m.\u001b[0m\u001b[0mmatch\u001b[0m\u001b[0;34m(\u001b[0m\u001b[0mdata_string\u001b[0m\u001b[0;34m)\u001b[0m\u001b[0;34m\u001b[0m\u001b[0;34m\u001b[0m\u001b[0m\n\u001b[1;32m    348\u001b[0m     \u001b[0;32mif\u001b[0m \u001b[0;32mnot\u001b[0m \u001b[0mfound\u001b[0m\u001b[0;34m:\u001b[0m\u001b[0;34m\u001b[0m\u001b[0;34m\u001b[0m\u001b[0m\n\u001b[0;32m--> 349\u001b[0;31m         raise ValueError(\"time data %r does not match format %r\" %\n\u001b[0m\u001b[1;32m    350\u001b[0m                          (data_string, format))\n\u001b[1;32m    351\u001b[0m     \u001b[0;32mif\u001b[0m \u001b[0mlen\u001b[0m\u001b[0;34m(\u001b[0m\u001b[0mdata_string\u001b[0m\u001b[0;34m)\u001b[0m \u001b[0;34m!=\u001b[0m \u001b[0mfound\u001b[0m\u001b[0;34m.\u001b[0m\u001b[0mend\u001b[0m\u001b[0;34m(\u001b[0m\u001b[0;34m)\u001b[0m\u001b[0;34m:\u001b[0m\u001b[0;34m\u001b[0m\u001b[0;34m\u001b[0m\u001b[0m\n",
      "\u001b[0;31mValueError\u001b[0m: time data ' 9 al 10 de febrero de 2022' does not match format '%d de %B de %Y'"
     ]
    }
   ],
   "source": [
    "datetime.strptime(rosgan_precio['fecha'][1], r'%d de %B de %Y')"
   ]
  },
  {
   "cell_type": "code",
   "execution_count": 30,
   "id": "bcd78c4c-54de-4dfe-95c8-a0b5e49af33c",
   "metadata": {},
   "outputs": [
    {
     "data": {
      "text/plain": [
       "' 9 de marzo de 2022'"
      ]
     },
     "execution_count": 30,
     "metadata": {},
     "output_type": "execute_result"
    }
   ],
   "source": []
  },
  {
   "cell_type": "code",
   "execution_count": null,
   "id": "bb5a7e63-33c0-41f3-b9e5-7d0378e9d7ad",
   "metadata": {},
   "outputs": [],
   "source": []
  }
 ],
 "metadata": {
  "kernelspec": {
   "display_name": "Python 3 (ipykernel)",
   "language": "python",
   "name": "python3"
  },
  "language_info": {
   "codemirror_mode": {
    "name": "ipython",
    "version": 3
   },
   "file_extension": ".py",
   "mimetype": "text/x-python",
   "name": "python",
   "nbconvert_exporter": "python",
   "pygments_lexer": "ipython3",
   "version": "3.9.7"
  }
 },
 "nbformat": 4,
 "nbformat_minor": 5
}
